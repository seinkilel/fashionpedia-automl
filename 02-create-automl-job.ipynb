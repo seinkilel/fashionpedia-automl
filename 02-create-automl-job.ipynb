{
 "cells": [
  {
   "metadata": {},
   "cell_type": "markdown",
   "source": "# Create the automl job for object detection",
   "id": "235b1be03b5dfc0a"
  },
  {
   "metadata": {},
   "cell_type": "markdown",
   "source": "## Connection to ml client ",
   "id": "ad53fdee4edb6952"
  },
  {
   "metadata": {
    "ExecuteTime": {
     "end_time": "2024-05-19T10:59:28.342750Z",
     "start_time": "2024-05-19T10:59:20.341063Z"
    }
   },
   "cell_type": "code",
   "source": [
    "from lib import get_client\n",
    "client=get_client()\n",
    "print(f'workspace name: {client.workspace_name}')"
   ],
   "id": "697a27a7cbd9a721",
   "outputs": [
    {
     "name": "stdout",
     "output_type": "stream",
     "text": [
      "workspace name: azure-ml\n"
     ]
    }
   ],
   "execution_count": 1
  },
  {
   "metadata": {},
   "cell_type": "markdown",
   "source": "##  Create Job",
   "id": "85cde4522c424ea6"
  },
  {
   "metadata": {},
   "cell_type": "markdown",
   "source": "Creation of the input path from the object detection job ",
   "id": "d35b1549cd987dd8"
  },
  {
   "metadata": {
    "ExecuteTime": {
     "end_time": "2024-05-19T11:00:07.844458Z",
     "start_time": "2024-05-19T11:00:07.841390Z"
    }
   },
   "cell_type": "code",
   "source": [
    "# Name of train data asset \n",
    "train_data_asset=\"train-fashionpedia-detection-automl\"\n",
    "# Name of validation test asset \n",
    "validation_data_asset=\"validation-fashionpedia-detection-automl\"\n",
    "# Name of compute \n",
    "compute=\"gpu01\"\n",
    "# experiment name \n",
    "experiment_name=\"fashionpedia-detection\""
   ],
   "id": "9119ea0782c81a76",
   "outputs": [],
   "execution_count": 8
  },
  {
   "metadata": {
    "ExecuteTime": {
     "end_time": "2024-05-19T10:59:32.207465Z",
     "start_time": "2024-05-19T10:59:28.349976Z"
    }
   },
   "cell_type": "code",
   "source": [
    "train_asset=client.data.get(name=train_data_asset,version=\"1.0.0\")\n",
    "validation_asset=client.data.get(name=validation_data_asset,version=\"1.0.0\")\n",
    "print(f'train path {train_asset.path}')\n",
    "print(f'validation path {validation_asset.path}')"
   ],
   "id": "4b9ff42a3e3364a",
   "outputs": [
    {
     "name": "stdout",
     "output_type": "stream",
     "text": [
      "train path azureml://subscriptions/7db1ee9f-abea-4b8b-b5a9-e6e82ecfa19d/resourcegroups/azure-ml/workspaces/azure-ml/datastores/workspaceblobstore/paths/LocalUpload/df97cad8fd2bdbea495f0b7c96c28be9/train/\n",
      "validation path azureml://subscriptions/7db1ee9f-abea-4b8b-b5a9-e6e82ecfa19d/resourcegroups/azure-ml/workspaces/azure-ml/datastores/workspaceblobstore/paths/LocalUpload/4787a0c625e38021cb682fc763637ebe/validation/\n"
     ]
    }
   ],
   "execution_count": 3
  },
  {
   "metadata": {
    "ExecuteTime": {
     "end_time": "2024-05-19T10:59:32.214739Z",
     "start_time": "2024-05-19T10:59:32.210442Z"
    }
   },
   "cell_type": "code",
   "source": [
    "from azure.ai.ml import Input\n",
    "from azure.ai.ml.constants import AssetTypes\n",
    "\n",
    "training_data_input = Input(type=AssetTypes.MLTABLE, path=train_asset.path)\n",
    "validation_data_input = Input(type=AssetTypes.MLTABLE, path=validation_asset.path)\n",
    "print(f'Train data input: {training_data_input}')\n",
    "print(f'Validation data input:{validation_data_input} ')"
   ],
   "id": "495bf0bef925542e",
   "outputs": [
    {
     "name": "stdout",
     "output_type": "stream",
     "text": [
      "Train data input: {'type': 'mltable', 'path': 'azureml://subscriptions/7db1ee9f-abea-4b8b-b5a9-e6e82ecfa19d/resourcegroups/azure-ml/workspaces/azure-ml/datastores/workspaceblobstore/paths/LocalUpload/df97cad8fd2bdbea495f0b7c96c28be9/train/'}\n",
      "Validation data input:{'type': 'mltable', 'path': 'azureml://subscriptions/7db1ee9f-abea-4b8b-b5a9-e6e82ecfa19d/resourcegroups/azure-ml/workspaces/azure-ml/datastores/workspaceblobstore/paths/LocalUpload/4787a0c625e38021cb682fc763637ebe/validation/'} \n"
     ]
    }
   ],
   "execution_count": 4
  },
  {
   "metadata": {
    "ExecuteTime": {
     "end_time": "2024-05-19T11:00:10.973452Z",
     "start_time": "2024-05-19T11:00:10.969718Z"
    }
   },
   "cell_type": "code",
   "source": [
    "from azure.ai.ml import automl\n",
    "image_classification_job = automl.image_object_detection(\n",
    "       experiment_name=experiment_name,\n",
    "       compute=compute,\n",
    "       training_data=training_data_input,\n",
    "       validation_data=validation_data_input,\n",
    "       target_column_name=\"label\",\n",
    "       tags={\"fashionpedia\": \"detection\"},\n",
    "   )\n"
   ],
   "id": "293199792e92e01f",
   "outputs": [],
   "execution_count": 9
  },
  {
   "metadata": {},
   "cell_type": "markdown",
   "source": [
    "## Hyper Parameters configuration\n",
    "\n",
    "We can configure some hyperparameter or keep the default value use by azure. \n",
    "\n",
    "See image job default values hyperparameters in:\n",
    "\n",
    "https://learn.microsoft.com/en-gb/azure/machine-learning/reference-automl-images-hyperparameters?view=azureml-api-2\n",
    "\n",
    "we will just change the number of epochs "
   ],
   "id": "57348efab0d51648"
  },
  {
   "metadata": {
    "ExecuteTime": {
     "end_time": "2024-05-19T11:00:17.521833Z",
     "start_time": "2024-05-19T11:00:17.518760Z"
    }
   },
   "cell_type": "code",
   "source": "image_classification_job.set_training_parameters(number_of_epochs=8)",
   "id": "a3451f69950626df",
   "outputs": [],
   "execution_count": 10
  },
  {
   "metadata": {},
   "cell_type": "markdown",
   "source": [
    "## Submit the job\n",
    "Be sure that compute is running before to submit the job"
   ],
   "id": "f4ff7374a558fd6d"
  },
  {
   "metadata": {
    "ExecuteTime": {
     "end_time": "2024-05-19T11:00:39.667960Z",
     "start_time": "2024-05-19T11:00:21.789108Z"
    }
   },
   "cell_type": "code",
   "source": [
    "returned_job=client.create_or_update(image_classification_job)\n",
    "print(f\"Created job: {returned_job}\")"
   ],
   "id": "d31b567825ad1b49",
   "outputs": [
    {
     "name": "stdout",
     "output_type": "stream",
     "text": [
      "Created job: compute: azureml:gpu01\n",
      "creation_context:\n",
      "  created_at: '2024-05-19T11:00:39.140576+00:00'\n",
      "  created_by: bc364512-35e7-4ad5-be27-080788c014f5\n",
      "  created_by_type: Application\n",
      "display_name: upbeat_reggae_1707vs71rc\n",
      "experiment_name: fashionpedia-detection\n",
      "id: azureml:/subscriptions/7db1ee9f-abea-4b8b-b5a9-e6e82ecfa19d/resourceGroups/azure-ml/providers/Microsoft.MachineLearningServices/workspaces/azure-ml/jobs/upbeat_reggae_1707vs71rc\n",
      "limits:\n",
      "  max_concurrent_trials: 1\n",
      "  max_trials: 1\n",
      "  timeout_minutes: 10080\n",
      "log_verbosity: info\n",
      "name: upbeat_reggae_1707vs71rc\n",
      "outputs: {}\n",
      "primary_metric: mean_average_precision\n",
      "properties:\n",
      "  azureml.git.dirty: 'True'\n",
      "  mlflow.source.git.branch: main\n",
      "resources:\n",
      "  instance_count: 1\n",
      "  shm_size: 2g\n",
      "services:\n",
      "  Studio:\n",
      "    endpoint: https://ml.azure.com/runs/upbeat_reggae_1707vs71rc?wsid=/subscriptions/7db1ee9f-abea-4b8b-b5a9-e6e82ecfa19d/resourcegroups/azure-ml/workspaces/azure-ml&tid=5d250ee6-9438-4941-b7c3-dab39198c26a\n",
      "  Tracking:\n",
      "    endpoint: azureml://eastus.api.azureml.ms/mlflow/v1.0/subscriptions/7db1ee9f-abea-4b8b-b5a9-e6e82ecfa19d/resourceGroups/azure-ml/providers/Microsoft.MachineLearningServices/workspaces/azure-ml?\n",
      "status: NotStarted\n",
      "tags:\n",
      "  fashionpedia: detection\n",
      "target_column_name: label\n",
      "task: image_object_detection\n",
      "training_data:\n",
      "  path: azureml://subscriptions/7db1ee9f-abea-4b8b-b5a9-e6e82ecfa19d/resourcegroups/azure-ml/workspaces/azure-ml/datastores/workspaceblobstore/paths/LocalUpload/df97cad8fd2bdbea495f0b7c96c28be9/train/\n",
      "  type: mltable\n",
      "training_parameters:\n",
      "  learning_rate_scheduler: none\n",
      "  log_training_metrics: LogTrainingMetrics.ENABLE\n",
      "  log_validation_loss: LogValidationLoss.DISABLE\n",
      "  model_size: none\n",
      "  number_of_epochs: 8\n",
      "  optimizer: none\n",
      "  validation_metric_type: none\n",
      "type: automl\n",
      "validation_data:\n",
      "  path: azureml://subscriptions/7db1ee9f-abea-4b8b-b5a9-e6e82ecfa19d/resourcegroups/azure-ml/workspaces/azure-ml/datastores/workspaceblobstore/paths/LocalUpload/4787a0c625e38021cb682fc763637ebe/validation/\n",
      "  type: mltable\n",
      "\n"
     ]
    }
   ],
   "execution_count": 11
  },
  {
   "metadata": {},
   "cell_type": "markdown",
   "source": "",
   "id": "bd48a799995374b6"
  }
 ],
 "metadata": {
  "kernelspec": {
   "display_name": "Python 3",
   "language": "python",
   "name": "python3"
  },
  "language_info": {
   "codemirror_mode": {
    "name": "ipython",
    "version": 2
   },
   "file_extension": ".py",
   "mimetype": "text/x-python",
   "name": "python",
   "nbconvert_exporter": "python",
   "pygments_lexer": "ipython2",
   "version": "2.7.6"
  }
 },
 "nbformat": 4,
 "nbformat_minor": 5
}
